{
 "cells": [
  {
   "cell_type": "code",
   "execution_count": 116,
   "metadata": {},
   "outputs": [],
   "source": [
    "import subprocess\n",
    "import csv\n",
    "import pandas as pd"
   ]
  },
  {
   "cell_type": "code",
   "execution_count": 117,
   "metadata": {},
   "outputs": [],
   "source": [
    "# opens original file\n",
    "file1 = open(\"output_neujahr.txt\" , \"r\")\n",
    "# opens new file\n",
    "file2 = open(\"summary_neujahr.txt\" , \"w\")\n",
    "#for each line in old file\n",
    "lines=file1.readlines()\n",
    "for line in lines[-4::]:\n",
    "#write that line to the new file\n",
    "    file2.write(line)\n",
    "#close file 1\n",
    "file1.close()\n",
    "#close file2\n",
    "file2.close()"
   ]
  },
  {
   "cell_type": "code",
   "execution_count": 118,
   "metadata": {},
   "outputs": [],
   "source": [
    "f = open(\"output_neujahr.txt\", \"r\")\n",
    "\n",
    "lines=f.readlines()\n",
    "col1=lines[0:-4:5]\n",
    "col2=lines[1:-4:5]\n",
    "col3=lines[2:-4:5]\n",
    "col4=lines[3:-4:5]\n",
    "col5=lines[4:-4:5]\n",
    "\n",
    "#print(col1,col2,col3,col4,col5)"
   ]
  },
  {
   "cell_type": "code",
   "execution_count": 119,
   "metadata": {},
   "outputs": [],
   "source": [
    "#df=pd.DataFrame(columns=['original', 'predication' , 'sentence_no','accuracy','error_rate'])\n",
    "df= pd.DataFrame({'sentence_no':col3,'accuracy':col4, 'error_rate':col5,  'predication':col2, 'original':col1})\n",
    "df['accuracy'] = df.accuracy.str.extract(r'=(.+?)%', expand=True)\n",
    "df['error_rate'] = df.error_rate.str.extract(r'=(.+?)%', expand=True)\n",
    "df.accuracy = df.accuracy.astype(float)"
   ]
  },
  {
   "cell_type": "code",
   "execution_count": 120,
   "metadata": {},
   "outputs": [],
   "source": [
    "export_csv = df.to_csv (r'neujahr_output.csv', index = None, header=True)"
   ]
  },
  {
   "cell_type": "code",
   "execution_count": 121,
   "metadata": {},
   "outputs": [],
   "source": [
    "avg=df.loc[:,\"accuracy\"].mean()\n",
    "file2 = open(\"summary_neujahr.txt\" , \"a\")\n",
    "file2.write(\"Sentence Accuracy mean =\"+ str(round(avg,3))+\"%\")\n",
    "file2.close()"
   ]
  },
  {
   "cell_type": "code",
   "execution_count": null,
   "metadata": {},
   "outputs": [],
   "source": []
  }
 ],
 "metadata": {
  "kernelspec": {
   "display_name": "Python 3",
   "language": "python",
   "name": "python3"
  },
  "language_info": {
   "codemirror_mode": {
    "name": "ipython",
    "version": 3
   },
   "file_extension": ".py",
   "mimetype": "text/x-python",
   "name": "python",
   "nbconvert_exporter": "python",
   "pygments_lexer": "ipython3",
   "version": "3.7.3"
  }
 },
 "nbformat": 4,
 "nbformat_minor": 2
}
